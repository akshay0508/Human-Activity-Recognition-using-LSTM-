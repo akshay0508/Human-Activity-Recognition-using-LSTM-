{
 "cells": [
  {
   "cell_type": "markdown",
   "metadata": {
    "deletable": true,
    "editable": true
   },
   "source": [
    "# Importing the neccessary libraries"
   ]
  },
  {
   "cell_type": "code",
   "execution_count": 2,
   "metadata": {
    "collapsed": true,
    "deletable": true,
    "editable": true
   },
   "outputs": [],
   "source": [
    "import numpy as np\n",
    "import matplotlib\n",
    "import matplotlib.pyplot as plt\n",
    "import tensorflow as tf  # Version r0.10 # Version r1.0\n",
    "from sklearn import metrics\n",
    "\n",
    "import os\n",
    "from tensorflow.python.ops import rnn"
   ]
  },
  {
   "cell_type": "code",
   "execution_count": 3,
   "metadata": {
    "collapsed": true,
    "deletable": true,
    "editable": true
   },
   "outputs": [],
   "source": [
    "import urllib\n",
    "import json\n",
    "import requests\n",
    "import pandas as pd"
   ]
  },
  {
   "cell_type": "markdown",
   "metadata": {
    "deletable": true,
    "editable": true
   },
   "source": [
    "# Downloading the Dataset"
   ]
  },
  {
   "cell_type": "code",
   "execution_count": 4,
   "metadata": {
    "collapsed": true,
    "deletable": true,
    "editable": true
   },
   "outputs": [],
   "source": [
    "import requests, zipfile, io\n",
    "r = requests.get('https://archive.ics.uci.edu/ml/machine-learning-databases/00240/UCI HAR Dataset.zip')\n",
    "z = zipfile.ZipFile(io.BytesIO(r.content))\n",
    "z.extractall()"
   ]
  },
  {
   "cell_type": "code",
   "execution_count": 5,
   "metadata": {
    "collapsed": false,
    "deletable": true,
    "editable": true
   },
   "outputs": [
    {
     "name": "stdout",
     "output_type": "stream",
     "text": [
      "\n",
      "Dataset is now located at: C://Users//Akshay//Desktop//UCI HAR Dataset/\n"
     ]
    }
   ],
   "source": [
    "DATA_PATH = \"C://Users//Akshay//Desktop//\"\n",
    "os.chdir(DATA_PATH)\n",
    "\n",
    "os.chdir(\"..\")\n",
    "DATASET_PATH = DATA_PATH + \"UCI HAR Dataset/\"\n",
    "print(\"\\n\" + \"Dataset is now located at: \" + DATASET_PATH)\n"
   ]
  },
  {
   "cell_type": "markdown",
   "metadata": {
    "deletable": true,
    "editable": true
   },
   "source": [
    "# Input and Output Parameters"
   ]
  },
  {
   "cell_type": "code",
   "execution_count": 7,
   "metadata": {
    "collapsed": true,
    "deletable": true,
    "editable": true
   },
   "outputs": [],
   "source": [
    "# Useful Constants\n",
    "\n",
    "# Those are separate normalised input features for the neural network\n",
    "INPUT_SIGNAL_TYPES = [\n",
    "    \"body_acc_x_\",\n",
    "    \"body_acc_y_\",\n",
    "    \"body_acc_z_\",\n",
    "    \"body_gyro_x_\",\n",
    "    \"body_gyro_y_\",\n",
    "    \"body_gyro_z_\",\n",
    "    \"total_acc_x_\",\n",
    "    \"total_acc_y_\",\n",
    "    \"total_acc_z_\"\n",
    "]\n",
    "\n",
    "# Output classes to learn how to classify\n",
    "LABELS = [\n",
    "    \"WALKING\", \n",
    "    \"WALKING_UPSTAIRS\", \n",
    "    \"WALKING_DOWNSTAIRS\", \n",
    "    \"SITTING\", \n",
    "    \"STANDING\", \n",
    "    \"LAYING\"\n",
    "]"
   ]
  },
  {
   "cell_type": "markdown",
   "metadata": {
    "collapsed": false,
    "deletable": true,
    "editable": true
   },
   "source": [
    "# Loading the Dataset "
   ]
  },
  {
   "cell_type": "code",
   "execution_count": 8,
   "metadata": {
    "collapsed": false,
    "deletable": true,
    "editable": true
   },
   "outputs": [],
   "source": [
    "TRAIN = \"train/\"\n",
    "TEST = \"test/\"\n",
    "\n",
    "\n",
    "# Load \"X\" (the neural network's training and testing inputs)\n",
    "\n",
    "def load_X(X_signals_paths):\n",
    "    X_signals = []\n",
    "    \n",
    "    for signal_type_path in X_signals_paths:\n",
    "        file = open(signal_type_path, 'r')\n",
    "        # Read dataset from disk, dealing with text files' syntax\n",
    "        X_signals.append(\n",
    "            [np.array(serie, dtype=np.float32) for serie in [\n",
    "                row.replace('  ', ' ').strip().split(' ') for row in file\n",
    "            ]]\n",
    "        )\n",
    "        file.close()\n",
    "    \n",
    "    return np.transpose(np.array(X_signals), (1, 2, 0))\n",
    "\n",
    "X_train_signals_paths = [\n",
    "    DATASET_PATH + TRAIN + \"Inertial Signals/\" + signal + \"train.txt\" for signal in INPUT_SIGNAL_TYPES\n",
    "]\n",
    "X_test_signals_paths = [\n",
    "    DATASET_PATH + TEST + \"Inertial Signals/\" + signal + \"test.txt\" for signal in INPUT_SIGNAL_TYPES\n",
    "]\n",
    "\n",
    "X_train = load_X(X_train_signals_paths)\n",
    "X_test = load_X(X_test_signals_paths)\n",
    "\n",
    "\n",
    "# Load \"y\" (the neural network's training and testing outputs)\n",
    "\n",
    "def load_y(y_path):\n",
    "    file = open(y_path, 'r')\n",
    "    # Read dataset from disk, dealing with text file's syntax\n",
    "    y_ = np.array(\n",
    "        [elem for elem in [\n",
    "            row.replace('  ', ' ').strip().split(' ') for row in file\n",
    "        ]], \n",
    "        dtype=np.int32\n",
    "    )\n",
    "    file.close()\n",
    "    \n",
    "    # Substract 1 to each output class for friendly 0-based indexing \n",
    "    return y_ - 1\n",
    "\n",
    "y_train_path = DATASET_PATH + TRAIN + \"y_train.txt\"\n",
    "y_test_path = DATASET_PATH + TEST + \"y_test.txt\"\n",
    "\n",
    "y_train = load_y(y_train_path)\n",
    "y_test = load_y(y_test_path)"
   ]
  },
  {
   "cell_type": "code",
   "execution_count": 9,
   "metadata": {
    "collapsed": false,
    "deletable": true,
    "editable": true
   },
   "outputs": [
    {
     "data": {
      "text/plain": [
       "(7352, 128, 9)"
      ]
     },
     "execution_count": 9,
     "metadata": {},
     "output_type": "execute_result"
    }
   ],
   "source": [
    "X_train.shape"
   ]
  },
  {
   "cell_type": "markdown",
   "metadata": {
    "deletable": true,
    "editable": true
   },
   "source": [
    "# Additionnal Parameters:\n",
    "\n",
    "Here are some core parameter definitions for the training. \n",
    "\n",
    "The whole neural network's structure could be summarised by enumerating those parameters and the fact an LSTM is used. "
   ]
  },
  {
   "cell_type": "code",
   "execution_count": 10,
   "metadata": {
    "collapsed": false,
    "deletable": true,
    "editable": true
   },
   "outputs": [
    {
     "name": "stdout",
     "output_type": "stream",
     "text": [
      "Some useful info to get an insight on dataset's shape and normalisation:\n",
      "(X shape, y shape, every X's mean, every X's standard deviation)\n",
      "(2947, 128, 9) (2947, 1) 0.0991399 0.395671\n",
      "The dataset is therefore properly normalised, as expected, but not yet one-hot encoded.\n"
     ]
    }
   ],
   "source": [
    "training_data_count = len(X_train)  # 7352 training series (with 50% overlap between each serie)\n",
    "test_data_count = len(X_test)  # 2947 testing series\n",
    "n_steps = len(X_train[0])  # 128 timesteps per series\n",
    "n_input = len(X_train[0][0])  # 9 input parameters per timestep\n",
    "\n",
    "\n",
    "# LSTM Neural Network's internal structure\n",
    "\n",
    "n_hidden = 32 # Hidden layer num of features\n",
    "n_classes = 6 # Total classes (should go up, or should go down)\n",
    "\n",
    "\n",
    "# Training \n",
    "\n",
    "learning_rate = 0.0025\n",
    "lambda_loss_amount = 0.0015\n",
    "training_iters = training_data_count * 300  # Loop 300 times on the dataset\n",
    "batch_size = 2000\n",
    "display_iter = 40000  # To show test set accuracy during training\n",
    "\n",
    "\n",
    "# Some debugging info\n",
    "\n",
    "print(\"Some useful info to get an insight on dataset's shape and normalisation:\")\n",
    "print(\"(X shape, y shape, every X's mean, every X's standard deviation)\")\n",
    "print(X_test.shape, y_test.shape, np.mean(X_test), np.std(X_test))\n",
    "print(\"The dataset is therefore properly normalised, as expected, but not yet one-hot encoded.\")"
   ]
  },
  {
   "cell_type": "markdown",
   "metadata": {
    "deletable": true,
    "editable": true
   },
   "source": [
    "# Functions for training "
   ]
  },
  {
   "cell_type": "code",
   "execution_count": 12,
   "metadata": {
    "collapsed": true,
    "deletable": true,
    "editable": true
   },
   "outputs": [],
   "source": [
    "def LSTM_RNN(_X, _weights, _biases):\n",
    "    # Function returns a tensorflow LSTM (RNN) artificial neural network from given parameters. \n",
    "    # Moreover, two LSTM cells are stacked which adds deepness to the neural network. \n",
    "    \n",
    "    # (NOTE: This step could be greatly optimised by shaping the dataset once\n",
    "    # input shape: (batch_size, n_steps, n_input)\n",
    "    _X = tf.transpose(_X, [1, 0, 2])  # permute n_steps and batch_size\n",
    "    # Reshape to prepare input to hidden activation\n",
    "    _X = tf.reshape(_X, [-1, n_input]) \n",
    "    # new shape: (n_steps*batch_size, n_input)\n",
    "    \n",
    "    # Linear activation\n",
    "    _X = tf.nn.relu(tf.matmul(_X, _weights['hidden']) + _biases['hidden'])\n",
    "    # Split data because rnn cell needs a list of inputs for the RNN inner loop\n",
    "    _X = tf.split(_X, n_steps, 0) \n",
    "    # new shape: n_steps * (batch_size, n_hidden)\n",
    "\n",
    "    # Define two stacked LSTM cells (two recurrent layers deep) with tensorflow\n",
    "    lstm_cell_1 = tf.contrib.rnn.BasicLSTMCell(n_hidden, forget_bias=1.0, state_is_tuple=True)\n",
    "    lstm_cell_2 = tf.contrib.rnn.BasicLSTMCell(n_hidden, forget_bias=1.0, state_is_tuple=True)\n",
    "    lstm_cells = tf.contrib.rnn.MultiRNNCell([lstm_cell_1, lstm_cell_2], state_is_tuple=True)\n",
    "    # Get LSTM cell output\n",
    "    outputs, states = tf.contrib.rnn.static_rnn(lstm_cells, _X, dtype=tf.float32)\n",
    "\n",
    "    # Get last time step's output feature for a \"many to one\" style classifier, \n",
    "    # as in the image describing RNNs at the top of this page\n",
    "    lstm_last_output = outputs[-1]\n",
    "    \n",
    "    # Linear activation\n",
    "    return tf.matmul(lstm_last_output, _weights['out']) + _biases['out']\n",
    "\n",
    "\n",
    "def extract_batch_size(_train, step, batch_size):\n",
    "    # Function to fetch a \"batch_size\" amount of data from \"(X|y)_train\" data. \n",
    "    \n",
    "    shape = list(_train.shape)\n",
    "    shape[0] = batch_size\n",
    "    batch_s = np.empty(shape)\n",
    "\n",
    "    for i in range(batch_size):\n",
    "        # Loop index\n",
    "        index = ((step-1)*batch_size + i) % len(_train)\n",
    "        batch_s[i] = _train[index] \n",
    "\n",
    "    return batch_s\n",
    "\n",
    "\n",
    "def one_hot(y_):\n",
    "    # Function to encode output labels from number indexes \n",
    "    # e.g.: [[5], [0], [3]] --> [[0, 0, 0, 0, 0, 1], [1, 0, 0, 0, 0, 0], [0, 0, 0, 1, 0, 0]]\n",
    "    \n",
    "    y_ = y_.reshape(len(y_))\n",
    "    n_values = int(np.max(y_)) + 1\n",
    "    return np.eye(n_values)[np.array(y_, dtype=np.int32)]  # Returns FLOAT"
   ]
  },
  {
   "cell_type": "markdown",
   "metadata": {
    "deletable": true,
    "editable": true
   },
   "source": [
    "# Building the Neural Network "
   ]
  },
  {
   "cell_type": "code",
   "execution_count": 13,
   "metadata": {
    "collapsed": false,
    "deletable": true,
    "editable": true
   },
   "outputs": [],
   "source": [
    "# Graph input/output\n",
    "x = tf.placeholder(tf.float32, [None, n_steps, n_input])\n",
    "y = tf.placeholder(tf.float32, [None, n_classes])\n",
    "\n",
    "# Graph weights\n",
    "weights = {\n",
    "    'hidden': tf.Variable(tf.random_normal([n_input, n_hidden])), # Hidden layer weights\n",
    "    'out': tf.Variable(tf.random_normal([n_hidden, n_classes], mean=1.0))\n",
    "}\n",
    "biases = {\n",
    "    'hidden': tf.Variable(tf.random_normal([n_hidden])),\n",
    "    'out': tf.Variable(tf.random_normal([n_classes]))\n",
    "}\n",
    "\n",
    "pred = LSTM_RNN(x, weights, biases)\n",
    "\n",
    "# Loss, optimizer and evaluation\n",
    "l2 = lambda_loss_amount * sum(\n",
    "    tf.nn.l2_loss(tf_var) for tf_var in tf.trainable_variables()\n",
    ") # L2 loss prevents this overkill neural network to overfit the data\n",
    "cost = tf.reduce_mean(tf.nn.softmax_cross_entropy_with_logits(labels=y, logits=pred)) + l2 # Softmax loss\n",
    "optimizer = tf.train.AdamOptimizer(learning_rate=learning_rate).minimize(cost) # Adam Optimizer\n",
    "\n",
    "correct_pred = tf.equal(tf.argmax(pred,1), tf.argmax(y,1))\n",
    "accuracy = tf.reduce_mean(tf.cast(correct_pred, tf.float32))"
   ]
  },
  {
   "cell_type": "markdown",
   "metadata": {
    "deletable": true,
    "editable": true
   },
   "source": [
    "# Training the Neural Network "
   ]
  },
  {
   "cell_type": "code",
   "execution_count": 14,
   "metadata": {
    "collapsed": false,
    "deletable": true,
    "editable": true,
    "scrolled": false
   },
   "outputs": [
    {
     "name": "stdout",
     "output_type": "stream",
     "text": [
      "Training iter #2000:   Batch Loss = 3.013893, Accuracy = 0.19300000369548798\n",
      "PERFORMANCE ON TEST SET: Batch Loss = 2.5243005752563477, Accuracy = 0.09229724854230881\n",
      "Training iter #40000:   Batch Loss = 1.363756, Accuracy = 0.6635000109672546\n",
      "PERFORMANCE ON TEST SET: Batch Loss = 1.3716809749603271, Accuracy = 0.6589752435684204\n",
      "Training iter #80000:   Batch Loss = 1.114251, Accuracy = 0.8174999952316284\n",
      "PERFORMANCE ON TEST SET: Batch Loss = 1.304334044456482, Accuracy = 0.7186969518661499\n",
      "Training iter #120000:   Batch Loss = 0.867785, Accuracy = 0.8949999809265137\n",
      "PERFORMANCE ON TEST SET: Batch Loss = 1.091390609741211, Accuracy = 0.8306752443313599\n",
      "Training iter #160000:   Batch Loss = 0.736916, Accuracy = 0.9325000047683716\n",
      "PERFORMANCE ON TEST SET: Batch Loss = 1.0273958444595337, Accuracy = 0.8680013418197632\n",
      "Training iter #200000:   Batch Loss = 0.678754, Accuracy = 0.9445000290870667\n",
      "PERFORMANCE ON TEST SET: Batch Loss = 0.9730402231216431, Accuracy = 0.884628415107727\n",
      "Training iter #240000:   Batch Loss = 0.714672, Accuracy = 0.9269999861717224\n",
      "PERFORMANCE ON TEST SET: Batch Loss = 0.9162567257881165, Accuracy = 0.8903970122337341\n",
      "Training iter #280000:   Batch Loss = 0.666633, Accuracy = 0.9545000195503235\n",
      "PERFORMANCE ON TEST SET: Batch Loss = 0.8752647638320923, Accuracy = 0.8920936584472656\n",
      "Training iter #320000:   Batch Loss = 0.661594, Accuracy = 0.9419999718666077\n",
      "PERFORMANCE ON TEST SET: Batch Loss = 0.8939489126205444, Accuracy = 0.8819137811660767\n",
      "Training iter #360000:   Batch Loss = 0.723180, Accuracy = 0.9325000047683716\n",
      "PERFORMANCE ON TEST SET: Batch Loss = 0.8332796096801758, Accuracy = 0.8808958530426025\n",
      "Training iter #400000:   Batch Loss = 0.646819, Accuracy = 0.9605000019073486\n",
      "PERFORMANCE ON TEST SET: Batch Loss = 0.9361007213592529, Accuracy = 0.8486596345901489\n",
      "Training iter #440000:   Batch Loss = 0.543922, Accuracy = 0.9865000247955322\n",
      "PERFORMANCE ON TEST SET: Batch Loss = 0.8483520746231079, Accuracy = 0.8975229263305664\n",
      "Training iter #480000:   Batch Loss = 0.565232, Accuracy = 0.9589999914169312\n",
      "PERFORMANCE ON TEST SET: Batch Loss = 0.8334847688674927, Accuracy = 0.8988802433013916\n",
      "Training iter #520000:   Batch Loss = 0.535136, Accuracy = 0.9825000166893005\n",
      "PERFORMANCE ON TEST SET: Batch Loss = 0.8020060062408447, Accuracy = 0.9029521346092224\n",
      "Training iter #560000:   Batch Loss = 0.550788, Accuracy = 0.9430000185966492\n",
      "PERFORMANCE ON TEST SET: Batch Loss = 0.7918317317962646, Accuracy = 0.9029521346092224\n",
      "Training iter #600000:   Batch Loss = 0.572032, Accuracy = 0.9509999752044678\n",
      "PERFORMANCE ON TEST SET: Batch Loss = 0.8092185854911804, Accuracy = 0.894808292388916\n",
      "Training iter #640000:   Batch Loss = 0.556492, Accuracy = 0.9520000219345093\n",
      "PERFORMANCE ON TEST SET: Batch Loss = 0.8051769733428955, Accuracy = 0.8863250613212585\n",
      "Training iter #680000:   Batch Loss = 0.564594, Accuracy = 0.9445000290870667\n",
      "PERFORMANCE ON TEST SET: Batch Loss = 0.7098735570907593, Accuracy = 0.9087207317352295\n",
      "Training iter #720000:   Batch Loss = 0.518562, Accuracy = 0.965499997138977\n",
      "PERFORMANCE ON TEST SET: Batch Loss = 0.6932203769683838, Accuracy = 0.9097387194633484\n",
      "Training iter #760000:   Batch Loss = 0.483343, Accuracy = 0.968500018119812\n",
      "PERFORMANCE ON TEST SET: Batch Loss = 0.7083582878112793, Accuracy = 0.9056667685508728\n",
      "Training iter #800000:   Batch Loss = 0.444292, Accuracy = 0.9904999732971191\n",
      "PERFORMANCE ON TEST SET: Batch Loss = 0.7199467420578003, Accuracy = 0.9029521346092224\n",
      "Training iter #840000:   Batch Loss = 1.129758, Accuracy = 0.7929999828338623\n",
      "PERFORMANCE ON TEST SET: Batch Loss = 0.8800755143165588, Accuracy = 0.857821524143219\n",
      "Training iter #880000:   Batch Loss = 0.499041, Accuracy = 0.9595000147819519\n",
      "PERFORMANCE ON TEST SET: Batch Loss = 0.7725878357887268, Accuracy = 0.8788598775863647\n",
      "Training iter #920000:   Batch Loss = 0.482415, Accuracy = 0.940500020980835\n",
      "PERFORMANCE ON TEST SET: Batch Loss = 0.755779504776001, Accuracy = 0.8910756707191467\n",
      "Training iter #960000:   Batch Loss = 0.498399, Accuracy = 0.9559999704360962\n",
      "PERFORMANCE ON TEST SET: Batch Loss = 0.7528063654899597, Accuracy = 0.8927723169326782\n",
      "Training iter #1000000:   Batch Loss = 0.480239, Accuracy = 0.953000009059906\n",
      "PERFORMANCE ON TEST SET: Batch Loss = 0.7493390440940857, Accuracy = 0.8873430490493774\n",
      "Training iter #1040000:   Batch Loss = 0.464556, Accuracy = 0.9514999985694885\n",
      "PERFORMANCE ON TEST SET: Batch Loss = 0.7055136561393738, Accuracy = 0.8937903046607971\n",
      "Training iter #1080000:   Batch Loss = 0.442660, Accuracy = 0.9710000157356262\n",
      "PERFORMANCE ON TEST SET: Batch Loss = 0.6933438777923584, Accuracy = 0.8988802433013916\n",
      "Training iter #1120000:   Batch Loss = 0.427577, Accuracy = 0.9624999761581421\n",
      "PERFORMANCE ON TEST SET: Batch Loss = 0.7014943361282349, Accuracy = 0.8951476216316223\n",
      "Training iter #1160000:   Batch Loss = 0.396766, Accuracy = 0.987500011920929\n",
      "PERFORMANCE ON TEST SET: Batch Loss = 0.7293082475662231, Accuracy = 0.8900576829910278\n",
      "Training iter #1200000:   Batch Loss = 0.401495, Accuracy = 0.9624999761581421\n",
      "PERFORMANCE ON TEST SET: Batch Loss = 0.707059383392334, Accuracy = 0.894808292388916\n",
      "Training iter #1240000:   Batch Loss = 0.498955, Accuracy = 0.9350000023841858\n",
      "PERFORMANCE ON TEST SET: Batch Loss = 0.7114697694778442, Accuracy = 0.88802170753479\n",
      "Training iter #1280000:   Batch Loss = 0.460031, Accuracy = 0.9394999742507935\n",
      "PERFORMANCE ON TEST SET: Batch Loss = 0.6252111196517944, Accuracy = 0.9009161591529846\n",
      "Training iter #1320000:   Batch Loss = 0.446062, Accuracy = 0.9465000033378601\n",
      "PERFORMANCE ON TEST SET: Batch Loss = 0.6394836902618408, Accuracy = 0.8961656093597412\n",
      "Training iter #1360000:   Batch Loss = 0.425415, Accuracy = 0.953499972820282\n",
      "PERFORMANCE ON TEST SET: Batch Loss = 0.6264827251434326, Accuracy = 0.8995589017868042\n",
      "Training iter #1400000:   Batch Loss = 0.430163, Accuracy = 0.9470000267028809\n",
      "PERFORMANCE ON TEST SET: Batch Loss = 0.6189831495285034, Accuracy = 0.8998982310295105\n",
      "Training iter #1440000:   Batch Loss = 0.362199, Accuracy = 0.9785000085830688\n",
      "PERFORMANCE ON TEST SET: Batch Loss = 0.6117827296257019, Accuracy = 0.903630793094635\n",
      "Training iter #1480000:   Batch Loss = 0.369818, Accuracy = 0.9620000123977661\n",
      "PERFORMANCE ON TEST SET: Batch Loss = 0.6311852931976318, Accuracy = 0.8985409140586853\n",
      "Training iter #1520000:   Batch Loss = 0.331573, Accuracy = 0.987500011920929\n",
      "PERFORMANCE ON TEST SET: Batch Loss = 0.6211773157119751, Accuracy = 0.8992195725440979\n",
      "Training iter #1560000:   Batch Loss = 0.354741, Accuracy = 0.9570000171661377\n",
      "PERFORMANCE ON TEST SET: Batch Loss = 0.6191360950469971, Accuracy = 0.8958262801170349\n",
      "Training iter #1600000:   Batch Loss = 0.377211, Accuracy = 0.9564999938011169\n",
      "PERFORMANCE ON TEST SET: Batch Loss = 0.5916229486465454, Accuracy = 0.9009161591529846\n",
      "Training iter #1640000:   Batch Loss = 0.371908, Accuracy = 0.953499972820282\n",
      "PERFORMANCE ON TEST SET: Batch Loss = 0.6102197170257568, Accuracy = 0.8985409140586853\n",
      "Training iter #1680000:   Batch Loss = 0.389088, Accuracy = 0.9419999718666077\n",
      "PERFORMANCE ON TEST SET: Batch Loss = 0.552898645401001, Accuracy = 0.903630793094635\n",
      "Training iter #1720000:   Batch Loss = 0.351270, Accuracy = 0.9610000252723694\n",
      "PERFORMANCE ON TEST SET: Batch Loss = 0.5503624081611633, Accuracy = 0.9039701223373413\n",
      "Training iter #1760000:   Batch Loss = 0.323031, Accuracy = 0.9664999842643738\n",
      "PERFORMANCE ON TEST SET: Batch Loss = 0.5493860244750977, Accuracy = 0.9039701223373413\n",
      "Training iter #1800000:   Batch Loss = 0.294275, Accuracy = 0.9904999732971191\n",
      "PERFORMANCE ON TEST SET: Batch Loss = 0.5681130886077881, Accuracy = 0.8998982310295105\n",
      "Training iter #1840000:   Batch Loss = 0.312384, Accuracy = 0.9629999995231628\n",
      "PERFORMANCE ON TEST SET: Batch Loss = 0.5640146732330322, Accuracy = 0.8975229263305664\n",
      "Training iter #1880000:   Batch Loss = 0.300532, Accuracy = 0.9829999804496765\n",
      "PERFORMANCE ON TEST SET: Batch Loss = 0.5435699820518494, Accuracy = 0.9005768299102783\n",
      "Training iter #1920000:   Batch Loss = 0.330561, Accuracy = 0.9399999976158142\n",
      "PERFORMANCE ON TEST SET: Batch Loss = 0.5438114404678345, Accuracy = 0.9056667685508728\n",
      "Training iter #1960000:   Batch Loss = 0.353677, Accuracy = 0.9424999952316284\n",
      "PERFORMANCE ON TEST SET: Batch Loss = 0.566012978553772, Accuracy = 0.8954869508743286\n",
      "Training iter #2000000:   Batch Loss = 0.325133, Accuracy = 0.953499972820282\n",
      "PERFORMANCE ON TEST SET: Batch Loss = 0.5670441389083862, Accuracy = 0.8995589017868042\n",
      "Training iter #2040000:   Batch Loss = 0.356177, Accuracy = 0.9390000104904175\n",
      "PERFORMANCE ON TEST SET: Batch Loss = 0.5724156498908997, Accuracy = 0.8965049386024475\n",
      "Training iter #2080000:   Batch Loss = 0.350836, Accuracy = 0.953499972820282\n",
      "PERFORMANCE ON TEST SET: Batch Loss = 0.6182296872138977, Accuracy = 0.8788598775863647\n",
      "Training iter #2120000:   Batch Loss = 0.351380, Accuracy = 0.9375\n",
      "PERFORMANCE ON TEST SET: Batch Loss = 0.6101791858673096, Accuracy = 0.8839497566223145\n",
      "Training iter #2160000:   Batch Loss = 0.281799, Accuracy = 0.9679999947547913\n",
      "PERFORMANCE ON TEST SET: Batch Loss = 0.5619219541549683, Accuracy = 0.8965049386024475\n",
      "Training iter #2200000:   Batch Loss = 0.300892, Accuracy = 0.953499972820282\n",
      "PERFORMANCE ON TEST SET: Batch Loss = 0.5756762623786926, Accuracy = 0.8998982310295105\n",
      "Optimization Finished!\n",
      "FINAL RESULT: Batch Loss = 0.5578670501708984, Accuracy = 0.907024085521698\n"
     ]
    }
   ],
   "source": [
    "# To keep track of training's performance\n",
    "test_losses = []\n",
    "test_accuracies = []\n",
    "train_losses = []\n",
    "train_accuracies = []\n",
    "\n",
    "# Launch the graph\n",
    "sess = tf.InteractiveSession(config=tf.ConfigProto(log_device_placement=True))\n",
    "init = tf.global_variables_initializer()\n",
    "sess.run(init)\n",
    "\n",
    "# Perform Training steps with \"batch_size\" amount of example data at each loop\n",
    "step = 1\n",
    "while step * batch_size <= training_iters:\n",
    "    batch_xs =         extract_batch_size(X_train, step, batch_size)\n",
    "    batch_ys = one_hot(extract_batch_size(y_train, step, batch_size))\n",
    "\n",
    "    # Fit training using batch data\n",
    "    _, loss, acc = sess.run(\n",
    "        [optimizer, cost, accuracy],\n",
    "        feed_dict={\n",
    "            x: batch_xs, \n",
    "            y: batch_ys\n",
    "        }\n",
    "    )\n",
    "    train_losses.append(loss)\n",
    "    train_accuracies.append(acc)\n",
    "    \n",
    "    # Evaluate network only at some steps for faster training: \n",
    "    if (step*batch_size % display_iter == 0) or (step == 1) or (step * batch_size > training_iters):\n",
    "        \n",
    "        # To not spam console, show training accuracy/loss in this \"if\"\n",
    "        print(\"Training iter #\" + str(step*batch_size) + \\\n",
    "              \":   Batch Loss = \" + \"{:.6f}\".format(loss) + \\\n",
    "              \", Accuracy = {}\".format(acc))\n",
    "        \n",
    "        # Evaluation on the test set (no learning made here - just evaluation for diagnosis)\n",
    "        loss, acc = sess.run(\n",
    "            [cost, accuracy], \n",
    "            feed_dict={\n",
    "                x: X_test,\n",
    "                y: one_hot(y_test)\n",
    "            }\n",
    "        )\n",
    "        test_losses.append(loss)\n",
    "        test_accuracies.append(acc)\n",
    "        print(\"PERFORMANCE ON TEST SET: \" + \\\n",
    "              \"Batch Loss = {}\".format(loss) + \\\n",
    "              \", Accuracy = {}\".format(acc))\n",
    "\n",
    "    step += 1\n",
    "\n",
    "print(\"Optimization Finished!\")\n",
    "\n",
    "# Accuracy for test data\n",
    "\n",
    "one_hot_predictions, accuracy, final_loss = sess.run(\n",
    "    [pred, accuracy, cost],\n",
    "    feed_dict={\n",
    "        x: X_test,\n",
    "        y: one_hot(y_test)\n",
    "    }\n",
    ")\n",
    "\n",
    "test_losses.append(final_loss)\n",
    "test_accuracies.append(accuracy)\n",
    "\n",
    "print(\"FINAL RESULT: \" + \\\n",
    "      \"Batch Loss = {}\".format(final_loss) + \\\n",
    "      \", Accuracy = {}\".format(accuracy))"
   ]
  },
  {
   "cell_type": "markdown",
   "metadata": {
    "deletable": true,
    "editable": true
   },
   "source": [
    "# Visual Insight on Accuracy "
   ]
  },
  {
   "cell_type": "code",
   "execution_count": 15,
   "metadata": {
    "collapsed": false,
    "deletable": true,
    "editable": true
   },
   "outputs": [
    {
     "name": "stderr",
     "output_type": "stream",
     "text": [
      "C:\\Users\\Akshay\\Anaconda3\\envs\\tensorflow\\lib\\site-packages\\matplotlib\\font_manager.py:1297: UserWarning: findfont: Font family ['Bitstream Vera Sans'] not found. Falling back to DejaVu Sans\n",
      "  (prop.get_family(), self.defaultFamily[fontext]))\n"
     ]
    },
    {
     "data": {
      "image/png": "[encoded data removed]",
      "text/plain": [
       "<matplotlib.figure.Figure at 0x1240f3225f8>"
      ]
     },
     "metadata": {},
     "output_type": "display_data"
    }
   ],
   "source": [
    "# (Inline plots: )\n",
    "%matplotlib inline\n",
    "\n",
    "font = {\n",
    "    'family' : 'Bitstream Vera Sans',\n",
    "    'weight' : 'bold',\n",
    "    'size'   : 18\n",
    "}\n",
    "matplotlib.rc('font', **font)\n",
    "\n",
    "width = 12\n",
    "height = 12\n",
    "plt.figure(figsize=(width, height))\n",
    "\n",
    "indep_train_axis = np.array(range(batch_size, (len(train_losses) + 1)*batch_size, batch_size))\n",
    "plt.plot(indep_train_axis, np.array(train_losses),     \"b--\", label=\"Train losses\")\n",
    "plt.plot(indep_train_axis, np.array(train_accuracies), \"g--\", label=\"Train accuracies\")\n",
    "\n",
    "indep_test_axis = np.array(list(range(batch_size, len(test_losses)*display_iter, display_iter)[:-1])+list([training_iters]))\n",
    "plt.plot(indep_test_axis, np.array(test_losses),     \"b-\", label=\"Test losses\")\n",
    "plt.plot(indep_test_axis, np.array(test_accuracies), \"g-\", label=\"Test accuracies\")\n",
    "\n",
    "plt.title(\"Training session's progress over iterations\")\n",
    "plt.legend(loc='upper right', shadow=True)\n",
    "plt.ylabel('Training Progress (Loss or Accuracy values)')\n",
    "plt.xlabel('Training iteration')\n",
    "\n",
    "plt.show()"
   ]
  },
  {
   "cell_type": "code",
   "execution_count": 16,
   "metadata": {
    "collapsed": true,
    "deletable": true,
    "editable": true
   },
   "outputs": [],
   "source": [
    "sess.close() "
   ]
  },
  {
   "cell_type": "code",
   "execution_count": null,
   "metadata": {
    "collapsed": true,
    "deletable": true,
    "editable": true
   },
   "outputs": [],
   "source": []
  }
 ],
 "metadata": {
  "anaconda-cloud": {},
  "kernelspec": {
   "display_name": "Python 3",
   "language": "python",
   "name": "python3"
  },
  "language_info": {
   "codemirror_mode": {
    "name": "ipython",
    "version": 3
   },
   "file_extension": ".py",
   "mimetype": "text/x-python",
   "name": "python",
   "nbconvert_exporter": "python",
   "pygments_lexer": "ipython3",
   "version": "3.5.3"
  }
 },
 "nbformat": 4,
 "nbformat_minor": 1
}
